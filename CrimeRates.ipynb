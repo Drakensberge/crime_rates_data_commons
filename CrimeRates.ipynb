{
  "nbformat": 4,
  "nbformat_minor": 0,
  "metadata": {
    "colab": {
      "name": "DS100 Lab",
      "version": "0.3.2",
      "provenance": [],
      "collapsed_sections": [],
      "include_colab_link": true
    },
    "kernelspec": {
      "display_name": "Python 3",
      "language": "python",
      "name": "python3"
    }
  },
  "cells": [
    {
      "cell_type": "markdown",
      "metadata": {
        "id": "view-in-github",
        "colab_type": "text"
      },
      "source": [
        "<a href=\"https://colab.research.google.com/github/Drakensberge/crime_rates_data_commons/blob/master/CrimeRates.ipynb\" target=\"_parent\"><img src=\"https://colab.research.google.com/assets/colab-badge.svg\" alt=\"Open In Colab\"/></a>"
      ]
    },
    {
      "metadata": {
        "id": "YOyhooaaXKz5",
        "colab_type": "code",
        "colab": {
          "base_uri": "https://localhost:8080/",
          "height": 207
        },
        "outputId": "40cf3ba4-9822-4611-abea-5a74fed03d24"
      },
      "cell_type": "code",
      "source": [
        "!pip install --upgrade -q datacommons\n",
        "!pip install numpy\n",
        "!pip install matplotlib"
      ],
      "execution_count": 3,
      "outputs": [
        {
          "output_type": "stream",
          "text": [
            "  Building wheel for datacommons (setup.py) ... \u001b[?25ldone\n",
            "\u001b[?25hRequirement already satisfied: numpy in /usr/local/lib/python3.6/dist-packages (1.14.6)\n",
            "Requirement already satisfied: matplotlib in /usr/local/lib/python3.6/dist-packages (3.0.2)\n",
            "Requirement already satisfied: cycler>=0.10 in /usr/local/lib/python3.6/dist-packages (from matplotlib) (0.10.0)\n",
            "Requirement already satisfied: numpy>=1.10.0 in /usr/local/lib/python3.6/dist-packages (from matplotlib) (1.14.6)\n",
            "Requirement already satisfied: pyparsing!=2.0.4,!=2.1.2,!=2.1.6,>=2.0.1 in /usr/local/lib/python3.6/dist-packages (from matplotlib) (2.3.1)\n",
            "Requirement already satisfied: python-dateutil>=2.1 in /usr/local/lib/python3.6/dist-packages (from matplotlib) (2.5.3)\n",
            "Requirement already satisfied: kiwisolver>=1.0.1 in /usr/local/lib/python3.6/dist-packages (from matplotlib) (1.0.1)\n",
            "Requirement already satisfied: six in /usr/local/lib/python3.6/dist-packages (from cycler>=0.10->matplotlib) (1.11.0)\n",
            "Requirement already satisfied: setuptools in /usr/local/lib/python3.6/dist-packages (from kiwisolver>=1.0.1->matplotlib) (40.8.0)\n"
          ],
          "name": "stdout"
        }
      ]
    },
    {
      "metadata": {
        "id": "VRvCG5b1XKz_",
        "colab_type": "code",
        "colab": {}
      },
      "cell_type": "code",
      "source": [
        ""
      ],
      "execution_count": 0,
      "outputs": []
    },
    {
      "metadata": {
        "colab_type": "code",
        "id": "7Et41jikt2yA",
        "colab": {}
      },
      "cell_type": "code",
      "source": [
        "import numpy as np\n",
        "%matplotlib inline  \n",
        "import matplotlib.pyplot as plt"
      ],
      "execution_count": 0,
      "outputs": []
    },
    {
      "metadata": {
        "colab_type": "text",
        "id": "yjBCrzJfqHtM"
      },
      "cell_type": "markdown",
      "source": [
        "# Crime rates on US north vs south border\n",
        "\n",
        "I recently attended a great presentation by R.V. Guha on his work on [DataCommons](https://browser.datacommons.org/). This tool provides a single, uniform knowledge graph (with browser and API) for statistics from different datasets across different government agencies with different storage formats.\n",
        "\n",
        "Recently, a prominent politician claimed that crime rates on the US/Mexico border towns were way up. In this notebook we explore\n",
        "- Is this true?\n",
        "- How does this compare with crimerates along the US/Canada border?\n",
        "- How cool is datacommons?!"
      ]
    },
    {
      "metadata": {
        "colab_type": "code",
        "id": "GQrede0Bdm-k",
        "outputId": "8ee164a3-b0c9-457d-db13-5b40817d0ee3",
        "colab": {
          "base_uri": "https://localhost:8080/",
          "height": 190
        }
      },
      "cell_type": "code",
      "source": [
        "import datacommons\n",
        "\n",
        "dc = datacommons.Client()"
      ],
      "execution_count": 5,
      "outputs": [
        {
          "output_type": "stream",
          "text": [
            "/usr/local/lib/python3.6/dist-packages/oauth2client/_helpers.py:255: UserWarning: Cannot access datacommons_66054275879-a0nalqfe2p9shlv4jpra5jekfkfnr8ug.apps.googleusercontent.com.dat: No such file or directory\n",
            "  warnings.warn(_MISSING_FILE_MESSAGE.format(filename))\n"
          ],
          "name": "stderr"
        },
        {
          "output_type": "stream",
          "text": [
            "\n",
            "Go to the following link in your browser:\n",
            "\n",
            "    https://accounts.google.com/o/oauth2/v2/auth?client_id=66054275879-a0nalqfe2p9shlv4jpra5jekfkfnr8ug.apps.googleusercontent.com&redirect_uri=urn%3Aietf%3Awg%3Aoauth%3A2.0%3Aoob&scope=https%3A%2F%2Fwww.googleapis.com%2Fauth%2Fuserinfo.email&access_type=offline&response_type=code&oauth_displayname=DataCommons+Python+Client\n",
            "\n",
            "Enter verification code: 4/7QDo429JprKHTGwxDk5Eqr0cI5lY6NxLfRuFPiPLVbttRsAZMR-AByA\n",
            "Authentication successful.\n"
          ],
          "name": "stdout"
        }
      ]
    },
    {
      "metadata": {
        "id": "gr3dXBp9ZmUZ",
        "colab_type": "code",
        "colab": {}
      },
      "cell_type": "code",
      "source": [
        "# A helper function that will display the head of each table\n",
        "def print_head(label, table, rows=5):\n",
        "    print(label)\n",
        "    print(table.head(rows))"
      ],
      "execution_count": 0,
      "outputs": []
    },
    {
      "metadata": {
        "colab_type": "text",
        "id": "pNHUbzq_dnGc"
      },
      "cell_type": "markdown",
      "source": [
        "To get started, we'll need the cities. First, following these [tutorials](https://datacommons.org/colab), we lookup the dcid for the [United States](https://browser.datacommons.org/kg?dcid=dc/2sffw13&r=0). Then we create some tables and expand them to be more readable."
      ]
    },
    {
      "metadata": {
        "id": "i49MuqSiZlQ0",
        "colab_type": "code",
        "colab": {}
      },
      "cell_type": "code",
      "source": [
        ""
      ],
      "execution_count": 0,
      "outputs": []
    },
    {
      "metadata": {
        "id": "CDK5UUbFYPjp",
        "colab_type": "code",
        "colab": {
          "base_uri": "https://localhost:8080/",
          "height": 68
        },
        "outputId": "f298868d-30db-4997-b1cd-c69d606aef16"
      },
      "cell_type": "code",
      "source": [
        "# Create a dataframe with the dcids of states, counties, and cities in the\n",
        "# United States.\n",
        "US_DCID = 'dc/2sffw13'\n",
        "\n",
        "# Some constants for tweaking the query speeds in this notebook\n",
        "MAX_STATE_ROWS = 100\n",
        "MAX_COUNTY_ROWS = 3500\n",
        "MAX_CITY_ROWS = 30000\n",
        "\n",
        "states = dc.get_places_in(place_type='State',\n",
        "                          container_dcid=US_DCID,  # United States\n",
        "                          col_name='state')\n",
        "print(\"Created table STATES with {} rows\".format(states.shape[0]))\n",
        "\n",
        "counties = dc.get_places_in(place_type='County',\n",
        "                            container_dcid=US_DCID,\n",
        "                            col_name='county',\n",
        "                            max_rows=MAX_COUNTY_ROWS)\n",
        "print(\"Created table COUNTIES with {} rows\".format(counties.shape[0]))\n",
        "\n",
        "cities = dc.get_places_in(place_type='City',\n",
        "                          container_dcid=US_DCID,\n",
        "                          col_name='city',\n",
        "                          max_rows=MAX_CITY_ROWS)\n",
        "print(\"Created table CITIES with {} rows\".format(cities.shape[0]))"
      ],
      "execution_count": 90,
      "outputs": [
        {
          "output_type": "stream",
          "text": [
            "Created table STATES with 52 rows\n",
            "Created table COUNTIES with 3220 rows\n",
            "Created table CITIES with 26201 rows\n"
          ],
          "name": "stdout"
        }
      ]
    },
    {
      "metadata": {
        "colab_type": "code",
        "id": "4CoM0LD4kZSN",
        "outputId": "97fb36a5-d060-4cb4-d826-45611d630802",
        "colab": {
          "base_uri": "https://localhost:8080/",
          "height": 408
        }
      },
      "cell_type": "code",
      "source": [
        "# Get the names associated with each entity\n",
        "states = dc.expand(states, 'name', 'state', 'name')\n",
        "print_head('STATES table', states)\n",
        "\n",
        "counties = dc.expand(counties, 'name', 'county', 'name', outgoing=True, max_rows=MAX_COUNTY_ROWS)\n",
        "print_head('\\nCOUNTIES table', counties)\n",
        "\n",
        "cities = dc.expand(cities, 'name', 'city', 'name', outgoing=True, max_rows=MAX_CITY_ROWS)\n",
        "print_head('\\nCITIES table', cities)\n"
      ],
      "execution_count": 91,
      "outputs": [
        {
          "output_type": "stream",
          "text": [
            "STATES table\n",
            "        state      name\n",
            "0       State      Text\n",
            "1  dc/11lqrr2  Missouri\n",
            "2  dc/1c9wee1  Arkansas\n",
            "3   dc/1hbcpn   Arizona\n",
            "4   dc/23mkg1      Ohio\n",
            "\n",
            "COUNTIES table\n",
            "       county             name\n",
            "0      County             Text\n",
            "1  dc/03230v2     Wayne County\n",
            "2  dc/016jhp2  Lares Municipio\n",
            "3  dc/0378303   Wyoming County\n",
            "4  dc/090nnv2  Garfield County\n",
            "\n",
            "CITIES table\n",
            "         city           name\n",
            "0        City           Text\n",
            "1   dc/002r1t  Grosse Pointe\n",
            "2  dc/003m6z1     Winchester\n",
            "3  dc/00482n1        Mettler\n",
            "4  dc/00571p1        Lealman\n"
          ],
          "name": "stdout"
        }
      ]
    },
    {
      "metadata": {
        "id": "szEfq4i4zM6h",
        "colab_type": "code",
        "colab": {
          "base_uri": "https://localhost:8080/",
          "height": 1156
        },
        "outputId": "d4181ed0-ebb3-47ee-e955-822b3f0bb2c4"
      },
      "cell_type": "code",
      "source": [
        "cc = dc.get_cities('California', 'city', max_rows=MAX_CITY_ROWS)\n",
        "cc = dc.expand(cc, 'name', 'city', 'name', outgoing=True, max_rows=MAX_CITY_ROWS)\n",
        "print(cc.sort_values(by='name'))\n",
        "print(cc.loc[cc['name'].isin(['San Diego','Calexico'])])"
      ],
      "execution_count": 102,
      "outputs": [
        {
          "output_type": "stream",
          "text": [
            "            city             name\n",
            "992     dc/s62l9           Acampo\n",
            "649    dc/zn7vbb            Acton\n",
            "34    dc/8q8r143         Adelanto\n",
            "810   dc/79trtb2     Agoura Hills\n",
            "652    dc/zrtlg9       Agua Dulce\n",
            "216   dc/lkg69b3          Aguanga\n",
            "337   dc/jryp683         Ahwahnee\n",
            "544    dc/49gr78          Alameda\n",
            "585   dc/h1r6qn3            Alamo\n",
            "783   dc/2jjlk53           Albany\n",
            "239    dc/rt74zf           Albion\n",
            "930   dc/776x273       Alderpoint\n",
            "939   dc/8857lp2         Alhambra\n",
            "888    dc/wrdffq      Aliso Viejo\n",
            "497   dc/req9fk2          Almanor\n",
            "1144  dc/vewewr2          Alpaugh\n",
            "388    dc/x22c0q           Alpine\n",
            "1174  dc/467jh53   Alpine Village\n",
            "719    dc/lmn3bh             Alta\n",
            "872     dc/sespz      Alta Sierra\n",
            "271   dc/1kr2ns3         Altadena\n",
            "952   dc/dt435e1          Alturas\n",
            "1142   dc/t9bmgx        Alum Rock\n",
            "1206  dc/grp1rm3      Amador City\n",
            "400   dc/0340691  American Canyon\n",
            "793    dc/3whtgb           Amesti\n",
            "141   dc/1ee7sm1          Anaheim\n",
            "545   dc/4edmc81       Anchor Bay\n",
            "1103  dc/jqx47y1         Anderson\n",
            "1009  dc/v99cmk1      Angels Camp\n",
            "...          ...              ...\n",
            "300   dc/90ez3q3          Willits\n",
            "68    dc/j4fz1f1     Willow Creek\n",
            "88    dc/mry2hd1      Willowbrook\n",
            "549   dc/66r41q1          Willows\n",
            "1164  dc/0n8lhp2         Wilsonia\n",
            "433    dc/7zk2g6           Wilton\n",
            "47    dc/d3ny111       Winchester\n",
            "863   dc/pmdjke1          Windsor\n",
            "918   dc/3q8jbb1   Winter Gardens\n",
            "583   dc/fx90b81      Winterhaven\n",
            "840    dc/h3hzvn          Winters\n",
            "1014  dc/vn31dg3           Winton\n",
            "987    dc/qlhtfj  Wofford Heights\n",
            "1020  dc/y6q66t3         Woodacre\n",
            "1186   dc/7qmcyd        Woodcrest\n",
            "280    dc/4cv5le         Woodlake\n",
            "377    dc/tgq1xc         Woodland\n",
            "754   dc/vmb98s2         Woodside\n",
            "705    dc/gp320r        Woodville\n",
            "547   dc/5w2n3b3       Wrightwood\n",
            "843   dc/h720ns1      Yankee Hill\n",
            "97    dc/psgcjr1           Yettem\n",
            "1247  dc/ysy6p81      Yorba Linda\n",
            "424     dc/5x2c7  Yosemite Valley\n",
            "94    dc/p5gery3       Yountville\n",
            "1037  dc/31wt0t1            Yreka\n",
            "1091  dc/g8mv303        Yuba City\n",
            "820    dc/b09shx          Yucaipa\n",
            "1120  dc/nt9xwr1     Yucca Valley\n",
            "815   dc/8xt9n23          Zayante\n",
            "\n",
            "[1250 rows x 2 columns]\n",
            "            city       name\n",
            "634   dc/w5qtrz2  San Diego\n",
            "1033  dc/27lcem1   Calexico\n"
          ],
          "name": "stdout"
        }
      ]
    },
    {
      "metadata": {
        "id": "TtQnnZ7mdx-f",
        "colab_type": "text"
      },
      "cell_type": "markdown",
      "source": [
        "Next we filter down to cities that border Mexico and cities that border Canada. From [Wikipedia](https://en.wikipedia.org/wiki/Border_town#United_States/Mexico), the border towns are as follows\n"
      ]
    },
    {
      "metadata": {
        "id": "vfnpFvZvYOO6",
        "colab_type": "code",
        "colab": {}
      },
      "cell_type": "code",
      "source": [
        "\n",
        "bordertowns_ca = \"\"\"Hyder, Alaska and Stewart, British Columbia\n",
        "Point Roberts, Washington and Tsawwassen, British Columbia\n",
        "Blaine, Washington and Surrey, British Columbia\n",
        "Sumas, Washington and Abbotsford, British Columbia\n",
        "Sweetgrass, Montana and Coutts, Alberta\n",
        "Portal, North Dakota and North Portal, Saskatchewan\n",
        "Pembina, North Dakota and Emerson, Manitoba\n",
        "Noyes, Minnesota and Emerson, Manitoba\n",
        "Baudette, Minnesota and Rainy River, Ontario\n",
        "International Falls, Minnesota and Fort Frances, Ontario\n",
        "Sault Ste. Marie, Michigan and Sault Ste. Marie, Ontario\n",
        "Port Huron, Michigan and Sarnia, Ontario\n",
        "Detroit, Michigan and Windsor, Ontario\n",
        "Buffalo, New York and Fort Erie, Ontario\n",
        "Niagara Falls, New York and Niagara Falls, Ontario\n",
        "Lewiston, New York and Queenston, Ontario\n",
        "Cape Vincent, New York and Wolfe Island, Ontario\n",
        "Ogdensburg, New York and Prescott, Ontario\n",
        "Massena, New York and Cornwall, Ontario\n",
        "Derby Line, Vermont and Rock Island, Quebec\n",
        "Norton, Vermont and Stanhope, Quebec\n",
        "Estcourt Station, Maine and Pohénégamook, Quebec\n",
        "Fort Kent, Maine and Clair, New Brunswick\n",
        "Madawaska, Maine and Edmundston, New Brunswick\n",
        "Van Buren, Maine and St. Leonard, New Brunswick\n",
        "Houlton, Maine and Woodstock, New Brunswick\n",
        "Vanceboro, Maine and St. Croix, New Brunswick\n",
        "Calais, Maine and St. Stephen, New Brunswick\n",
        "Eastport, Maine and Deer Island, New Brunswick\n",
        "Lubec, Maine and Campobello Island, New Brunswick\"\"\"\n",
        "\n",
        "bordertowns_mx = \"\"\"San Diego, California and Tijuana, Baja California\n",
        "Tecate, Baja California\n",
        "Calexico, California and Mexicali, Baja California\n",
        "Los Algodones, Baja California\n",
        "San Luis, Arizona and San Luis Río Colorado, Sonora\n",
        "Sonoyta, Sonora\n",
        "Nogales, Arizona and Nogales, Sonora\n",
        "Douglas, Arizona and Agua Prieta, Sonora\n",
        "Columbus, New Mexico and Puerto Palomas, Chihuahua\n",
        "El Paso, Texas and Ciudad Juárez, Chihuahua\n",
        "Edinburg, Texas\n",
        "Socorro, Texas\n",
        "San Elizario, Texas\n",
        "Brownsville, Texas and Matamoros, Tamaulipas\n",
        "Del Rio, Texas and Ciudad Acuña, Coahuila\n",
        "Eagle Pass, Texas and Piedras Negras, Coahuila\n",
        "Presidio, Texas and Ojinaga, Chihuahua\n",
        "Hidalgo, Texas and Reynosa, Tamaulipas\n",
        "Laredo, Texas and Nuevo Laredo, Tamaulipas\n",
        "El Cenizo, Texas\n",
        "Roma, Texas and Ciudad Miguel Alemán, Tamaulipas\n",
        "Escobares, Texas\n",
        "Rio Grande City, Texas\n",
        "La Grulla, Texas\n",
        "Hidalgo, Texas and Reynosa, Tamaulipas\n",
        "Progreso Lakes, Texas and Nuevo Progreso, Río Bravo, Tamaulipas\n",
        "Brownsville, Texas and Matamoros, Tamaulipas\"\"\"\n",
        "bordertowns_ca = bordertowns_ca.split('\\n')\n",
        "bordertowns_ca = [row.split(' and')[0].split(', ') for row in bordertowns_ca]\n",
        "bordertowns_mx = bordertowns_mx.split('\\n')\n",
        "bordertowns_mx = [row.split(' and')[0].split(', ') for row in bordertowns_mx]"
      ],
      "execution_count": 0,
      "outputs": []
    },
    {
      "metadata": {
        "id": "71UOFcxdecMB",
        "colab_type": "code",
        "colab": {
          "base_uri": "https://localhost:8080/",
          "height": 221
        },
        "outputId": "080cf0b6-1c14-4510-e737-2a4f9503906c"
      },
      "cell_type": "code",
      "source": [
        "import pandas as pd\n",
        "\n",
        "bordertowns_ca = pd.DataFrame(bordertowns_ca, columns=['City', \"State\"])\n",
        "bordertowns_mx = pd.DataFrame(bordertowns_mx, columns=['City', \"State\"])\n",
        "\n",
        "print(bordertowns_ca.head())\n",
        "print(bordertowns_mx.head())"
      ],
      "execution_count": 74,
      "outputs": [
        {
          "output_type": "stream",
          "text": [
            "            City       State\n",
            "0          Hyder      Alaska\n",
            "1  Point Roberts  Washington\n",
            "2         Blaine  Washington\n",
            "3          Sumas  Washington\n",
            "4     Sweetgrass     Montana\n",
            "            City            State\n",
            "0      San Diego       California\n",
            "1         Tecate  Baja California\n",
            "2       Calexico       California\n",
            "3  Los Algodones  Baja California\n",
            "4       San Luis          Arizona\n"
          ],
          "name": "stdout"
        }
      ]
    },
    {
      "metadata": {
        "id": "Wkh3WfiMi_Ix",
        "colab_type": "text"
      },
      "cell_type": "markdown",
      "source": [
        ""
      ]
    },
    {
      "metadata": {
        "id": "KGm3HdMUJWkX",
        "colab_type": "code",
        "colab": {
          "base_uri": "https://localhost:8080/",
          "height": 51
        },
        "outputId": "4c76bda4-a8da-4265-8926-170c1b190157"
      },
      "cell_type": "code",
      "source": [
        "print(bordertowns_mx.shape)\n",
        "print(bordertowns_ca.shape)"
      ],
      "execution_count": 109,
      "outputs": [
        {
          "output_type": "stream",
          "text": [
            "(27, 2)\n",
            "(30, 2)\n"
          ],
          "name": "stdout"
        }
      ]
    },
    {
      "metadata": {
        "id": "P6WsnbCWi_ZG",
        "colab_type": "code",
        "colab": {}
      },
      "cell_type": "code",
      "source": [
        "border_states_mx = ['California', 'Arizona', 'New Mexico', 'Texas']\n",
        "border_states_ca = 'Alaska, Washington, Idaho, Montana, North Dakota, Minnesota, Michigan, Ohio, Pennsylvania, New York, Vermont, New Hampshire, Maine'.split(', ')\n"
      ],
      "execution_count": 0,
      "outputs": []
    },
    {
      "metadata": {
        "id": "Px6o56JNjcoC",
        "colab_type": "code",
        "colab": {
          "base_uri": "https://localhost:8080/",
          "height": 425
        },
        "outputId": "4423b8f5-7919-4f56-d882-5f7f28415779"
      },
      "cell_type": "code",
      "source": [
        "city_state_mx = {}\n",
        "for state in border_states_mx:\n",
        "  c = dc.get_cities(state, 'city', max_rows=MAX_CITY_ROWS)\n",
        "  c = dc.expand(c, 'name', 'city', 'name', outgoing=True, max_rows=MAX_CITY_ROWS)\n",
        "  c['Statename'] = state\n",
        "  c['Neighbor'] = 'Mexico'\n",
        "  city_state_mx[state]= c.iloc[1:]\n",
        "  print(city_state_mx[state].head())"
      ],
      "execution_count": 103,
      "outputs": [
        {
          "output_type": "stream",
          "text": [
            "         city         name   Statename Neighbor\n",
            "1  dc/08v06x2  Lake Hughes  California   Mexico\n",
            "2  dc/0pev8n1    June Lake  California   Mexico\n",
            "3  dc/16ws7j3      La Vina  California   Mexico\n",
            "4  dc/1bs7t83    Templeton  California   Mexico\n",
            "5  dc/1ctcte2      Redding  California   Mexico\n",
            "         city               name Statename Neighbor\n",
            "1  dc/09be4l1  Black Canyon City   Arizona   Mexico\n",
            "2  dc/1211wn2   Corona de Tucson   Arizona   Mexico\n",
            "3   dc/156csc             Marana   Arizona   Mexico\n",
            "4  dc/1tbzp42    Prescott Valley   Arizona   Mexico\n",
            "5  dc/22lbvr1          Wide Ruin   Arizona   Mexico\n",
            "         city         name   Statename Neighbor\n",
            "1  dc/03hy233        Duran  New Mexico   Mexico\n",
            "2  dc/2gqltt2  White Sands  New Mexico   Mexico\n",
            "3  dc/2mbylp3        Alamo  New Mexico   Mexico\n",
            "4  dc/32t6c71   Fence Lake  New Mexico   Mexico\n",
            "5  dc/3tjxm51     McIntosh  New Mexico   Mexico\n",
            "         city            name Statename Neighbor\n",
            "1   dc/01tfxp           Kress     Texas   Mexico\n",
            "2   dc/02p23w          Sunset     Texas   Mexico\n",
            "3   dc/0e81z2     Port Arthur     Texas   Mexico\n",
            "4  dc/0lmmr63  Patton Village     Texas   Mexico\n",
            "5  dc/0k3m8v2      San Isidro     Texas   Mexico\n"
          ],
          "name": "stdout"
        }
      ]
    },
    {
      "metadata": {
        "id": "bdegekXYoK8H",
        "colab_type": "code",
        "colab": {
          "base_uri": "https://localhost:8080/",
          "height": 1343
        },
        "outputId": "06be0155-e2cd-4f67-c328-664ffffcaa27"
      },
      "cell_type": "code",
      "source": [
        "city_state_ca = {}\n",
        "for state in border_states_ca:\n",
        "  c = dc.get_cities(state, 'city', max_rows=MAX_CITY_ROWS)\n",
        "  c = dc.expand(c, 'name', 'city', 'name', outgoing=True, max_rows=MAX_CITY_ROWS)\n",
        "  c['Statename'] = state\n",
        "  c['Neighbor'] = 'Canada'\n",
        "  city_state_ca[state]= c.iloc[1:]\n",
        "  print(city_state_ca[state].head())"
      ],
      "execution_count": 104,
      "outputs": [
        {
          "output_type": "stream",
          "text": [
            "         city        name Statename Neighbor\n",
            "1   dc/08kcll    Kotzebue    Alaska   Canada\n",
            "2  dc/08mfe82  Kongiganak    Alaska   Canada\n",
            "3  dc/0e8j263  Game Creek    Alaska   Canada\n",
            "4  dc/1wr7cy2     Takotna    Alaska   Canada\n",
            "5  dc/378fq22   Napaskiak    Alaska   Canada\n",
            "         city                      name   Statename Neighbor\n",
            "1  dc/01b0y93  Fairchild Air Force Base  Washington   Canada\n",
            "2  dc/02jjpn3                 Centralia  Washington   Canada\n",
            "3  dc/0378q22                     Selah  Washington   Canada\n",
            "4  dc/04nsx03                    Bucoda  Washington   Canada\n",
            "5  dc/0bn9sx2                Lake Shore  Washington   Canada\n",
            "         city       name Statename Neighbor\n",
            "1  dc/1qg2wg3  Richfield     Idaho   Canada\n",
            "2  dc/7e4bl52   Kimberly     Idaho   Canada\n",
            "3   dc/7l41ml     Downey     Idaho   Canada\n",
            "4  dc/dg8sj73   Hazelton     Idaho   Canada\n",
            "5  dc/dnyekd1    Acequia     Idaho   Canada\n",
            "         city         name Statename Neighbor\n",
            "1  dc/13mgb11          Wye   Montana   Canada\n",
            "2  dc/1r6gr23      Huntley   Montana   Canada\n",
            "3  dc/4s0jwn2    Red Lodge   Montana   Canada\n",
            "4  dc/5s73y43        Ronan   Montana   Canada\n",
            "5  dc/8tt8er3  Saint Regis   Montana   Canada\n",
            "         city       name     Statename Neighbor\n",
            "1  dc/021cwg2       Knox  North Dakota   Canada\n",
            "2  dc/2qjhns3    Bucyrus  North Dakota   Canada\n",
            "3  dc/47z4p43  Casselton  North Dakota   Canada\n",
            "4  dc/4z6f262      Beach  North Dakota   Canada\n",
            "5  dc/514n8t2      Logan  North Dakota   Canada\n",
            "         city              name  Statename Neighbor\n",
            "1  dc/06sbg32          Hastings  Minnesota   Canada\n",
            "2  dc/0hrc7t1            Truman  Minnesota   Canada\n",
            "3  dc/0s92lg3  Oak Park Heights  Minnesota   Canada\n",
            "4  dc/17bnp33            Darfur  Minnesota   Canada\n",
            "5  dc/1v7lh02      Stewartville  Minnesota   Canada\n",
            "         city                  name Statename Neighbor\n",
            "1  dc/0bht672            Watervliet  Michigan   Canada\n",
            "2   dc/09cr52  Village of Caledonia  Michigan   Canada\n",
            "3  dc/0lfzqh2              Woodland  Michigan   Canada\n",
            "4  dc/0sv39x2                Galien  Michigan   Canada\n",
            "5  dc/1923h31         Columbiaville  Michigan   Canada\n",
            "         city             name Statename Neighbor\n",
            "1  dc/00dl701      Carbon Hill      Ohio   Canada\n",
            "2  dc/019rej1         Blue Ash      Ohio   Canada\n",
            "3  dc/024w7e1          Haskins      Ohio   Canada\n",
            "4  dc/03460d1           Rawson      Ohio   Canada\n",
            "5  dc/043del1  Washingtonville      Ohio   Canada\n",
            "         city          name     Statename Neighbor\n",
            "1   dc/00fq5l        Lorane  Pennsylvania   Canada\n",
            "2   dc/00yfmm      Defiance  Pennsylvania   Canada\n",
            "3  dc/01827s1        Taylor  Pennsylvania   Canada\n",
            "4   dc/02e69v  Bonneauville  Pennsylvania   Canada\n",
            "5  dc/02glhv1        Lemont  Pennsylvania   Canada\n",
            "         city                       name Statename Neighbor\n",
            "1  dc/108qnv2  Village of New York Mills  New York   Canada\n",
            "2  dc/119ccx3                       Troy  New York   Canada\n",
            "3  dc/1fhf7p1                 Round Lake  New York   Canada\n",
            "4   dc/2578gt       Village of Nelliston  New York   Canada\n",
            "5  dc/29fwkj1        Village of Oriskany  New York   Canada\n",
            "         city       name Statename Neighbor\n",
            "1   dc/06hgvg  Worcester   Vermont   Canada\n",
            "2  dc/0mkw3d1    Newport   Vermont   Canada\n",
            "3  dc/16bn0b1    Windsor   Vermont   Canada\n",
            "4  dc/177b753     Milton   Vermont   Canada\n",
            "5  dc/1cewyf3  Pittsford   Vermont   Canada\n",
            "         city      name      Statename Neighbor\n",
            "1  dc/2grgw42      Troy  New Hampshire   Canada\n",
            "2   dc/5f45jy  Boscawen  New Hampshire   Canada\n",
            "3  dc/7mgct62   Alstead  New Hampshire   Canada\n",
            "4  dc/8g1wnv2   Fremont  New Hampshire   Canada\n",
            "5  dc/ens3fs1  Meredith  New Hampshire   Canada\n",
            "         city         name Statename Neighbor\n",
            "1  dc/01fkw21   Phippsburg     Maine   Canada\n",
            "2  dc/44x2gp1       Wilton     Maine   Canada\n",
            "3  dc/49c2z33        Orono     Maine   Canada\n",
            "4  dc/4x63et2       Gorham     Maine   Canada\n",
            "5   dc/8v5wb7  Farmingdale     Maine   Canada\n"
          ],
          "name": "stdout"
        }
      ]
    },
    {
      "metadata": {
        "id": "tEpZHfBHspD6",
        "colab_type": "code",
        "colab": {
          "base_uri": "https://localhost:8080/",
          "height": 986
        },
        "outputId": "ae956780-e472-4204-f7ea-b515565a1546"
      },
      "cell_type": "code",
      "source": [
        "mx_df = pd.concat(list(city_state_mx.values()))\n",
        "new_mx_df = pd.merge(bordertowns_mx, mx_df,  how='left', \n",
        "                  left_on=['City','State'], right_on = ['name','Statename'])\n",
        "print(new_mx_df)"
      ],
      "execution_count": 113,
      "outputs": [
        {
          "output_type": "stream",
          "text": [
            "               City            State        city             name   Statename  \\\n",
            "0         San Diego       California  dc/w5qtrz2        San Diego  California   \n",
            "1            Tecate  Baja California         NaN              NaN         NaN   \n",
            "2          Calexico       California  dc/27lcem1         Calexico  California   \n",
            "3     Los Algodones  Baja California         NaN              NaN         NaN   \n",
            "4          San Luis          Arizona  dc/fw8tss1         San Luis     Arizona   \n",
            "5           Sonoyta           Sonora         NaN              NaN         NaN   \n",
            "6           Nogales          Arizona  dc/n1b5vr3          Nogales     Arizona   \n",
            "7           Douglas          Arizona  dc/845fls3          Douglas     Arizona   \n",
            "8          Columbus       New Mexico  dc/h9nd022         Columbus  New Mexico   \n",
            "9           El Paso            Texas  dc/bflt9z1          El Paso       Texas   \n",
            "10         Edinburg            Texas  dc/ty55662         Edinburg       Texas   \n",
            "11          Socorro            Texas  dc/d47r653          Socorro       Texas   \n",
            "12     San Elizario            Texas  dc/q08rl51     San Elizario       Texas   \n",
            "13      Brownsville            Texas  dc/vmh4zx1      Brownsville       Texas   \n",
            "14          Del Rio            Texas  dc/84pvkn3          Del Rio       Texas   \n",
            "15       Eagle Pass            Texas  dc/c5473p1       Eagle Pass       Texas   \n",
            "16         Presidio            Texas  dc/02gc0y2         Presidio       Texas   \n",
            "17          Hidalgo            Texas  dc/kz1wey2          Hidalgo       Texas   \n",
            "18           Laredo            Texas   dc/cwv9b1           Laredo       Texas   \n",
            "19        El Cenizo            Texas  dc/s3nphj3        El Cenizo       Texas   \n",
            "20             Roma            Texas   dc/xkl1hk             Roma       Texas   \n",
            "21        Escobares            Texas  dc/4zhys12        Escobares       Texas   \n",
            "22  Rio Grande City            Texas   dc/5t5sch  Rio Grande City       Texas   \n",
            "23        La Grulla            Texas   dc/0g54mf        La Grulla       Texas   \n",
            "24          Hidalgo            Texas  dc/kz1wey2          Hidalgo       Texas   \n",
            "25   Progreso Lakes            Texas   dc/88vl1f   Progreso Lakes       Texas   \n",
            "26      Brownsville            Texas  dc/vmh4zx1      Brownsville       Texas   \n",
            "\n",
            "   Neighbor  \n",
            "0    Mexico  \n",
            "1       NaN  \n",
            "2    Mexico  \n",
            "3       NaN  \n",
            "4    Mexico  \n",
            "5       NaN  \n",
            "6    Mexico  \n",
            "7    Mexico  \n",
            "8    Mexico  \n",
            "9    Mexico  \n",
            "10   Mexico  \n",
            "11   Mexico  \n",
            "12   Mexico  \n",
            "13   Mexico  \n",
            "14   Mexico  \n",
            "15   Mexico  \n",
            "16   Mexico  \n",
            "17   Mexico  \n",
            "18   Mexico  \n",
            "19   Mexico  \n",
            "20   Mexico  \n",
            "21   Mexico  \n",
            "22   Mexico  \n",
            "23   Mexico  \n",
            "24   Mexico  \n",
            "25   Mexico  \n",
            "26   Mexico  \n"
          ],
          "name": "stdout"
        }
      ]
    },
    {
      "metadata": {
        "id": "oP6wxn9Mw-HZ",
        "colab_type": "code",
        "colab": {
          "base_uri": "https://localhost:8080/",
          "height": 782
        },
        "outputId": "e6b58bb4-1128-4360-8351-595376bc2404"
      },
      "cell_type": "code",
      "source": [
        "ca_df = pd.concat(list(city_state_ca.values()))\n",
        "new_ca_df = pd.merge(bordertowns_ca, ca_df,  how='inner', \n",
        "                  left_on=['City','State'], right_on = ['name','Statename'])\n",
        "print(new_ca_df)"
      ],
      "execution_count": 112,
      "outputs": [
        {
          "output_type": "stream",
          "text": [
            "                   City         State        city                 name  \\\n",
            "0                 Hyder        Alaska  dc/jrnek91                Hyder   \n",
            "1         Point Roberts    Washington   dc/emt178        Point Roberts   \n",
            "2                Blaine    Washington  dc/b5z6sf2               Blaine   \n",
            "3                 Sumas    Washington  dc/ff7wx92                Sumas   \n",
            "4                Portal  North Dakota   dc/w71bwl               Portal   \n",
            "5               Pembina  North Dakota  dc/pfhfxy3              Pembina   \n",
            "6              Baudette     Minnesota   dc/56sygc             Baudette   \n",
            "7   International Falls     Minnesota  dc/rdxy822  International Falls   \n",
            "8      Sault Ste. Marie      Michigan  dc/d8ctlf1     Sault Ste. Marie   \n",
            "9            Port Huron      Michigan  dc/0lbp251           Port Huron   \n",
            "10              Detroit      Michigan   dc/xt37js              Detroit   \n",
            "11              Buffalo      New York  dc/qd88zk1              Buffalo   \n",
            "12        Niagara Falls      New York  dc/y1ykt01        Niagara Falls   \n",
            "13             Lewiston      New York  dc/8m1zl33             Lewiston   \n",
            "14           Ogdensburg      New York  dc/58px453           Ogdensburg   \n",
            "15            Madawaska         Maine    dc/1mw6v            Madawaska   \n",
            "16            Van Buren         Maine   dc/rrcztb            Van Buren   \n",
            "17              Houlton         Maine  dc/syg8263              Houlton   \n",
            "18               Calais         Maine  dc/b126qk3               Calais   \n",
            "19             Eastport         Maine  dc/k75jzk1             Eastport   \n",
            "20                Lubec         Maine   dc/pz2xx6                Lubec   \n",
            "\n",
            "       Statename Neighbor  \n",
            "0         Alaska   Canada  \n",
            "1     Washington   Canada  \n",
            "2     Washington   Canada  \n",
            "3     Washington   Canada  \n",
            "4   North Dakota   Canada  \n",
            "5   North Dakota   Canada  \n",
            "6      Minnesota   Canada  \n",
            "7      Minnesota   Canada  \n",
            "8       Michigan   Canada  \n",
            "9       Michigan   Canada  \n",
            "10      Michigan   Canada  \n",
            "11      New York   Canada  \n",
            "12      New York   Canada  \n",
            "13      New York   Canada  \n",
            "14      New York   Canada  \n",
            "15         Maine   Canada  \n",
            "16         Maine   Canada  \n",
            "17         Maine   Canada  \n",
            "18         Maine   Canada  \n",
            "19         Maine   Canada  \n",
            "20         Maine   Canada  \n"
          ],
          "name": "stdout"
        }
      ]
    },
    {
      "metadata": {
        "colab_type": "text",
        "id": "2JmxK2KrnCcQ"
      },
      "cell_type": "markdown",
      "source": [
        "OK not bad, we lost a few rows where the towns had variants on the names. If you want to go look deeper, you'll see there wasnt' much data there. This could be a good exercise to fill inthe data at a later stage. The ones we lost for Mexico are actually in Mexico. So we're in pretty good shape.\n",
        "\n",
        "Now we are ready to pull the crime stats for each of these towns. The key part of all of this munging was to get the dcid for them.\n"
      ]
    },
    {
      "metadata": {
        "colab_type": "text",
        "id": "Ccy9-czCfVTn"
      },
      "cell_type": "markdown",
      "source": [
        "### Querying for Statistics\n",
        "\n",
        "Let's start by querying for all our statistics. If you have not already, take a look at this [notebook](https://colab.research.google.com/drive/1vffnWktZyffk7pNfpuXrTsCpp-od5W47) explaining how to query for StatisticalPopulations and Observations. "
      ]
    },
    {
      "metadata": {
        "colab_type": "code",
        "id": "w2VPoSUWgeK3",
        "outputId": "1f2cf8c4-d6e7-4f6e-f932-6edbf656d554",
        "colab": {
          "base_uri": "https://localhost:8080/",
          "height": 241
        }
      },
      "cell_type": "code",
      "source": [
        "# Prevalence of crime\n",
        "data = dc.get_populations(pd_table=data,\n",
        "                          seed_col_name='City',\n",
        "                          new_col_name='Person/Obesity',\n",
        "                          population_type='Person',\n",
        "                          max_rows=500,\n",
        "                          chronicCondition='Obesity')\n",
        "data = dc.get_observations(pd_table=data,\n",
        "                           seed_col_name='Person/Obesity',\n",
        "                           new_col_name='Obesity',\n",
        "                           start_date='2015-01-01',\n",
        "                           end_date='2015-01-01',\n",
        "                           measured_property='crudePrevalence',\n",
        "                           max_rows=500)\n",
        "\n",
        "# Prevalence of high blood pressure\n",
        "data = dc.get_populations(pd_table=data,\n",
        "                          seed_col_name='City',\n",
        "                          new_col_name='Person/Bphigh',\n",
        "                          population_type='Person',\n",
        "                          max_rows=500,\n",
        "                          chronicCondition='Bphigh')\n",
        "data = dc.get_observations(pd_table=data,\n",
        "                           seed_col_name='Person/Bphigh',\n",
        "                           new_col_name='Bphigh',\n",
        "                           start_date='2015-01-01',\n",
        "                           end_date='2015-01-01',\n",
        "                           measured_property='crudePrevalence',\n",
        "                           max_rows=500)\n",
        "\n",
        "# Unemployment statistics\n",
        "data = dc.get_populations(pd_table=data,\n",
        "                          seed_col_name='City',\n",
        "                          new_col_name='Person/Unemployment',\n",
        "                          population_type='Person',\n",
        "                          max_rows=500,\n",
        "                          employmentStatus='Unemployed')\n",
        "data = dc.get_observations(pd_table=data,\n",
        "                           seed_col_name='Person/Unemployment',\n",
        "                           new_col_name='Unemployment',\n",
        "                           start_date='2015-01-01',\n",
        "                           end_date='2015-01-01',\n",
        "                           measured_property='percent',\n",
        "                           max_rows=500)\n",
        "\n",
        "# Population count\n",
        "data = dc.get_populations(pd_table=data,\n",
        "                          seed_col_name='City',\n",
        "                          new_col_name='Person',\n",
        "                          population_type='Person',\n",
        "                          max_rows=500)\n",
        "data = dc.get_observations(pd_table=data,\n",
        "                           seed_col_name='Person',\n",
        "                           new_col_name='Population',\n",
        "                           start_date='2011-01-01',\n",
        "                           end_date='2015-01-01',\n",
        "                           measured_property='count',\n",
        "                           max_rows=500)\n",
        "\n",
        "# Population count of individuals living beneath the poverty line\n",
        "data = dc.get_populations(pd_table=data,\n",
        "                          seed_col_name='City',\n",
        "                          new_col_name='Person/Poverty',\n",
        "                          population_type='Person',\n",
        "                          max_rows=500,\n",
        "                          povertyStatus='USC_IncomeInThePast12MonthsBelowPovertyLevel')\n",
        "data = dc.get_observations(pd_table=data,\n",
        "                           seed_col_name='Person/Poverty',\n",
        "                           new_col_name='Poverty',\n",
        "                           start_date='2011-01-01',\n",
        "                           end_date='2015-01-01',\n",
        "                           measured_property='count',\n",
        "                           max_rows=500)\n",
        "\n",
        "data.head(5)"
      ],
      "execution_count": 0,
      "outputs": [
        {
          "output_type": "execute_result",
          "data": {
            "text/html": [
              "<div>\n",
              "<style scoped>\n",
              "    .dataframe tbody tr th:only-of-type {\n",
              "        vertical-align: middle;\n",
              "    }\n",
              "\n",
              "    .dataframe tbody tr th {\n",
              "        vertical-align: top;\n",
              "    }\n",
              "\n",
              "    .dataframe thead th {\n",
              "        text-align: right;\n",
              "    }\n",
              "</style>\n",
              "<table border=\"1\" class=\"dataframe\">\n",
              "  <thead>\n",
              "    <tr style=\"text-align: right;\">\n",
              "      <th></th>\n",
              "      <th>City</th>\n",
              "      <th>CityName</th>\n",
              "      <th>Person/Obesity</th>\n",
              "      <th>Obesity</th>\n",
              "      <th>Person/Bphigh</th>\n",
              "      <th>Bphigh</th>\n",
              "      <th>Person/Unemployment</th>\n",
              "      <th>Unemployment</th>\n",
              "      <th>Person</th>\n",
              "      <th>Population</th>\n",
              "      <th>Person/Poverty</th>\n",
              "      <th>Poverty</th>\n",
              "    </tr>\n",
              "  </thead>\n",
              "  <tbody>\n",
              "    <tr>\n",
              "      <th>0</th>\n",
              "      <td>City</td>\n",
              "      <td>Text</td>\n",
              "      <td>StatisticalPopulation</td>\n",
              "      <td>Observation</td>\n",
              "      <td>StatisticalPopulation</td>\n",
              "      <td>Observation</td>\n",
              "      <td>StatisticalPopulation</td>\n",
              "      <td>Observation</td>\n",
              "      <td>StatisticalPopulation</td>\n",
              "      <td>Observation</td>\n",
              "      <td>StatisticalPopulation</td>\n",
              "      <td>Observation</td>\n",
              "    </tr>\n",
              "    <tr>\n",
              "      <th>1</th>\n",
              "      <td>dc/5n6xfw1</td>\n",
              "      <td>Kansas City</td>\n",
              "      <td>dc/p/8cfdc4pn9tl2f</td>\n",
              "      <td>37.1</td>\n",
              "      <td>dc/p/xd7qbbrfddek6</td>\n",
              "      <td>33.4</td>\n",
              "      <td>dc/p/v2z07z80954j1</td>\n",
              "      <td>6.9</td>\n",
              "      <td>dc/p/k0xyxkhy95gh8</td>\n",
              "      <td>467990</td>\n",
              "      <td>dc/p/xt6fc5qjcjlp7</td>\n",
              "      <td></td>\n",
              "    </tr>\n",
              "    <tr>\n",
              "      <th>2</th>\n",
              "      <td>dc/1c7ts02</td>\n",
              "      <td>Jonesboro</td>\n",
              "      <td>dc/p/vqqhfbrz7l765</td>\n",
              "      <td>33</td>\n",
              "      <td>dc/p/m3yk3n3dk2j16</td>\n",
              "      <td>33.9</td>\n",
              "      <td>dc/p/djjrck4784vn3</td>\n",
              "      <td>5.6</td>\n",
              "      <td>dc/p/4g9rhsyk1nmw5</td>\n",
              "      <td>71576</td>\n",
              "      <td>dc/p/8kepkez448l5b</td>\n",
              "      <td>16130</td>\n",
              "    </tr>\n",
              "    <tr>\n",
              "      <th>3</th>\n",
              "      <td>dc/rj1gww3</td>\n",
              "      <td>Medford</td>\n",
              "      <td>dc/p/mscwd43zbd2g3</td>\n",
              "      <td>29.1</td>\n",
              "      <td>dc/p/he5pfjqn9s3qg</td>\n",
              "      <td>30.4</td>\n",
              "      <td>dc/p/zvlj9kb8rqxfc</td>\n",
              "      <td>7.1</td>\n",
              "      <td>dc/p/wtpnzdr42842g</td>\n",
              "      <td>77579</td>\n",
              "      <td>dc/p/tdmzhtlv0q492</td>\n",
              "      <td>17596</td>\n",
              "    </tr>\n",
              "    <tr>\n",
              "      <th>4</th>\n",
              "      <td>dc/lygh3t</td>\n",
              "      <td>Honolulu</td>\n",
              "      <td>dc/p/3redng4jvmsx6</td>\n",
              "      <td>21.7</td>\n",
              "      <td>dc/p/1pny281k58bl6</td>\n",
              "      <td>31.5</td>\n",
              "      <td></td>\n",
              "      <td></td>\n",
              "      <td></td>\n",
              "      <td></td>\n",
              "      <td></td>\n",
              "      <td></td>\n",
              "    </tr>\n",
              "  </tbody>\n",
              "</table>\n",
              "</div>"
            ],
            "text/plain": [
              "         City     CityName         Person/Obesity      Obesity  \\\n",
              "0        City         Text  StatisticalPopulation  Observation   \n",
              "1  dc/5n6xfw1  Kansas City     dc/p/8cfdc4pn9tl2f         37.1   \n",
              "2  dc/1c7ts02    Jonesboro     dc/p/vqqhfbrz7l765           33   \n",
              "3  dc/rj1gww3      Medford     dc/p/mscwd43zbd2g3         29.1   \n",
              "4   dc/lygh3t     Honolulu     dc/p/3redng4jvmsx6         21.7   \n",
              "\n",
              "           Person/Bphigh       Bphigh    Person/Unemployment Unemployment  \\\n",
              "0  StatisticalPopulation  Observation  StatisticalPopulation  Observation   \n",
              "1     dc/p/xd7qbbrfddek6         33.4     dc/p/v2z07z80954j1          6.9   \n",
              "2     dc/p/m3yk3n3dk2j16         33.9     dc/p/djjrck4784vn3          5.6   \n",
              "3     dc/p/he5pfjqn9s3qg         30.4     dc/p/zvlj9kb8rqxfc          7.1   \n",
              "4     dc/p/1pny281k58bl6         31.5                                       \n",
              "\n",
              "                  Person   Population         Person/Poverty      Poverty  \n",
              "0  StatisticalPopulation  Observation  StatisticalPopulation  Observation  \n",
              "1     dc/p/k0xyxkhy95gh8       467990     dc/p/xt6fc5qjcjlp7               \n",
              "2     dc/p/4g9rhsyk1nmw5        71576     dc/p/8kepkez448l5b        16130  \n",
              "3     dc/p/wtpnzdr42842g        77579     dc/p/tdmzhtlv0q492        17596  \n",
              "4                                                                          "
            ]
          },
          "metadata": {
            "tags": []
          },
          "execution_count": 4
        }
      ]
    },
    {
      "metadata": {
        "colab_type": "text",
        "id": "z191ImVmrdds"
      },
      "cell_type": "markdown",
      "source": [
        "### Cleaning the Data\n",
        "\n",
        "Great! We have all the statistics we'll need for this case study queried from three different data sources without having to write additional code to perform the joins. However, we'll still need to perform three data cleanup tasks to prepare the data for analysis:\n",
        "\n",
        "1. Select the column of city names and all observation columns.\n",
        "2. Convert the observation columns to numerical types. Since dataCommons is still in its early release stage, there are a couple of oddities such as how numerical observations are stored as text values!\n",
        "3. Remove any missing rows with missing values.\n",
        "\n",
        "Let's generate the final dataframe."
      ]
    },
    {
      "metadata": {
        "colab_type": "code",
        "id": "Wv6oIY765sf-",
        "outputId": "679a4724-d2ed-4627-d046-8fb345d76b17",
        "colab": {
          "base_uri": "https://localhost:8080/",
          "height": 204
        }
      },
      "cell_type": "code",
      "source": [
        "import pandas as pd\n",
        "\n",
        "def select_and_clean(df, info_cols, data_cols):\n",
        "    \"\"\" Selects columns in INFO_COLS + DATA_COLS from DF and performs cleanup \n",
        "    tasks described above:\n",
        "    - Remove top row\n",
        "    - Convert DATA_COLS to numerical types.\n",
        "    - Remove rows with missing statistics.\n",
        "    \"\"\"\n",
        "    table = df[1:][info_cols + data_cols].copy()\n",
        "    table[data_cols] = table[data_cols].apply(pd.to_numeric, errors='coerce')\n",
        "    table = table.dropna()\n",
        "    return table\n",
        "\n",
        "# Get the cleaned table\n",
        "cleaned = data.copy()\n",
        "cleaned = select_and_clean(data, ['CityName'], ['Obesity', 'Bphigh', 'Unemployment', 'Population', 'Poverty'])\n",
        "cleaned['PovertyRate'] = cleaned['Poverty'] / cleaned['Population'] * 100\n",
        "cleaned.head(5)"
      ],
      "execution_count": 0,
      "outputs": [
        {
          "output_type": "execute_result",
          "data": {
            "text/html": [
              "<div>\n",
              "<style scoped>\n",
              "    .dataframe tbody tr th:only-of-type {\n",
              "        vertical-align: middle;\n",
              "    }\n",
              "\n",
              "    .dataframe tbody tr th {\n",
              "        vertical-align: top;\n",
              "    }\n",
              "\n",
              "    .dataframe thead th {\n",
              "        text-align: right;\n",
              "    }\n",
              "</style>\n",
              "<table border=\"1\" class=\"dataframe\">\n",
              "  <thead>\n",
              "    <tr style=\"text-align: right;\">\n",
              "      <th></th>\n",
              "      <th>CityName</th>\n",
              "      <th>Obesity</th>\n",
              "      <th>Bphigh</th>\n",
              "      <th>Unemployment</th>\n",
              "      <th>Population</th>\n",
              "      <th>Poverty</th>\n",
              "      <th>PovertyRate</th>\n",
              "    </tr>\n",
              "  </thead>\n",
              "  <tbody>\n",
              "    <tr>\n",
              "      <th>2</th>\n",
              "      <td>Jonesboro</td>\n",
              "      <td>33.0</td>\n",
              "      <td>33.9</td>\n",
              "      <td>5.6</td>\n",
              "      <td>71576.0</td>\n",
              "      <td>16130.0</td>\n",
              "      <td>22.535487</td>\n",
              "    </tr>\n",
              "    <tr>\n",
              "      <th>3</th>\n",
              "      <td>Medford</td>\n",
              "      <td>29.1</td>\n",
              "      <td>30.4</td>\n",
              "      <td>7.1</td>\n",
              "      <td>77579.0</td>\n",
              "      <td>17596.0</td>\n",
              "      <td>22.681396</td>\n",
              "    </tr>\n",
              "    <tr>\n",
              "      <th>5</th>\n",
              "      <td>Rochester</td>\n",
              "      <td>27.3</td>\n",
              "      <td>23.0</td>\n",
              "      <td>3.6</td>\n",
              "      <td>110275.0</td>\n",
              "      <td>11107.0</td>\n",
              "      <td>10.072092</td>\n",
              "    </tr>\n",
              "    <tr>\n",
              "      <th>6</th>\n",
              "      <td>Bloomington</td>\n",
              "      <td>22.8</td>\n",
              "      <td>27.8</td>\n",
              "      <td>4.0</td>\n",
              "      <td>85826.0</td>\n",
              "      <td>7553.0</td>\n",
              "      <td>8.800364</td>\n",
              "    </tr>\n",
              "    <tr>\n",
              "      <th>7</th>\n",
              "      <td>Brooklyn Park</td>\n",
              "      <td>25.2</td>\n",
              "      <td>25.3</td>\n",
              "      <td>4.4</td>\n",
              "      <td>78195.0</td>\n",
              "      <td>8604.0</td>\n",
              "      <td>11.003261</td>\n",
              "    </tr>\n",
              "  </tbody>\n",
              "</table>\n",
              "</div>"
            ],
            "text/plain": [
              "        CityName  Obesity  Bphigh  Unemployment  Population  Poverty  \\\n",
              "2      Jonesboro     33.0    33.9           5.6     71576.0  16130.0   \n",
              "3        Medford     29.1    30.4           7.1     77579.0  17596.0   \n",
              "5      Rochester     27.3    23.0           3.6    110275.0  11107.0   \n",
              "6    Bloomington     22.8    27.8           4.0     85826.0   7553.0   \n",
              "7  Brooklyn Park     25.2    25.3           4.4     78195.0   8604.0   \n",
              "\n",
              "   PovertyRate  \n",
              "2    22.535487  \n",
              "3    22.681396  \n",
              "5    10.072092  \n",
              "6     8.800364  \n",
              "7    11.003261  "
            ]
          },
          "metadata": {
            "tags": []
          },
          "execution_count": 5
        }
      ]
    },
    {
      "metadata": {
        "colab_type": "text",
        "id": "-ZGRFaJKdHIO"
      },
      "cell_type": "markdown",
      "source": [
        "### Exploring the Data\n",
        "\n",
        "Now's a good time to explore how each variable (high blood pressure prevalence, unemployment rate, and poverty rate) correlate with obesity prevalence. As stated before, previous research has shown that each of these variables tend to correlate positively with the prevalence of Obesity. Does our data show this?"
      ]
    },
    {
      "metadata": {
        "colab_type": "code",
        "id": "Y_g3fDt-dasl",
        "outputId": "c7f3e606-8e17-491a-f161-e14addee0cd4",
        "colab": {
          "base_uri": "https://localhost:8080/",
          "height": 410
        }
      },
      "cell_type": "code",
      "source": [
        "# Plot Bphigh vs. Obesity\n",
        "plt.figure(figsize=(6,4))\n",
        "cleaned.plot.scatter(x='Bphigh', y='Obesity')\n",
        "plt.title('High Blood Pressure Prevalence v. Obesity Prevalence')\n",
        "plt.plot()"
      ],
      "execution_count": 0,
      "outputs": [
        {
          "output_type": "execute_result",
          "data": {
            "text/plain": [
              "[]"
            ]
          },
          "metadata": {
            "tags": []
          },
          "execution_count": 6
        },
        {
          "output_type": "display_data",
          "data": {
            "text/plain": [
              "<Figure size 432x288 with 0 Axes>"
            ]
          },
          "metadata": {
            "tags": []
          }
        },
        {
          "output_type": "display_data",
          "data": {
            "image/png": "[encoded data removed]",
            "text/plain": [
              "<Figure size 576x396 with 1 Axes>"
            ]
          },
          "metadata": {
            "tags": []
          }
        }
      ]
    },
    {
      "metadata": {
        "colab_type": "code",
        "id": "Rf2yQkHBcuEk",
        "outputId": "68659aee-ff6f-469c-b2a7-d45681d879c1",
        "colab": {
          "base_uri": "https://localhost:8080/",
          "height": 410
        }
      },
      "cell_type": "code",
      "source": [
        "# Plot Unemployment with Obesity\n",
        "plt.figure(figsize=(6,4))\n",
        "cleaned.plot.scatter(x='Unemployment', y='Obesity')\n",
        "plt.title('Unemployment Rate v. Obesity Prevalence')\n",
        "plt.plot()"
      ],
      "execution_count": 0,
      "outputs": [
        {
          "output_type": "execute_result",
          "data": {
            "text/plain": [
              "[]"
            ]
          },
          "metadata": {
            "tags": []
          },
          "execution_count": 18
        },
        {
          "output_type": "display_data",
          "data": {
            "text/plain": [
              "<matplotlib.figure.Figure at 0x7f6439e36908>"
            ]
          },
          "metadata": {
            "tags": []
          }
        },
        {
          "output_type": "display_data",
          "data": {
            "image/png": "[encoded data removed]",
            "text/plain": [
              "<matplotlib.figure.Figure at 0x7f6436d49908>"
            ]
          },
          "metadata": {
            "tags": []
          }
        }
      ]
    },
    {
      "metadata": {
        "colab_type": "code",
        "id": "A6bczTzEcuOS",
        "outputId": "aebbb9ee-ff82-43a6-c2a8-edf9ecda2b25",
        "colab": {
          "base_uri": "https://localhost:8080/",
          "height": 410
        }
      },
      "cell_type": "code",
      "source": [
        "# Plot PovertyRate with Obesity\n",
        "plt.figure(figsize=(6,4))\n",
        "cleaned.plot.scatter(x='PovertyRate', y='Obesity')\n",
        "plt.title('Poverty Rate v. Obesity Prevalence')\n",
        "plt.plot()"
      ],
      "execution_count": 0,
      "outputs": [
        {
          "output_type": "execute_result",
          "data": {
            "text/plain": [
              "[]"
            ]
          },
          "metadata": {
            "tags": []
          },
          "execution_count": 7
        },
        {
          "output_type": "display_data",
          "data": {
            "text/plain": [
              "<Figure size 432x288 with 0 Axes>"
            ]
          },
          "metadata": {
            "tags": []
          }
        },
        {
          "output_type": "display_data",
          "data": {
            "image/png": "[encoded data removed]",
            "text/plain": [
              "<Figure size 576x396 with 1 Axes>"
            ]
          },
          "metadata": {
            "tags": []
          }
        }
      ]
    },
    {
      "metadata": {
        "colab_type": "text",
        "id": "wNABZa_idvzD"
      },
      "cell_type": "markdown",
      "source": [
        "Looks like each of variable does correlate positively with obesity prevalence."
      ]
    },
    {
      "metadata": {
        "colab_type": "text",
        "id": "Bp52dWJNfYSa"
      },
      "cell_type": "markdown",
      "source": [
        "### Modeling the Data\n",
        "\n",
        "We'll be predicting the prevalence of obesity with the following linear model.\n",
        "\n",
        "<br>\n",
        "$$f_\\theta(x) = \\theta_0 + \\theta_1 (\\text{high blood pressure}) + \\theta_2 (\\text{unemployment}) + \\theta_3(\\text{poverty rate})$$\n",
        "<br>\n",
        "\n",
        "Let's start by creating our training and test sets. We'll then train a linear regression model using Scikit learn's [LinearRegression](https://scikit-learn.org/stable/modules/generated/sklearn.linear_model.LinearRegression.html)"
      ]
    },
    {
      "metadata": {
        "colab_type": "code",
        "id": "CppTvF2tYz4U",
        "outputId": "37dcc4b8-ee6b-4ca6-90b9-fe7c7b444edb",
        "colab": {
          "base_uri": "https://localhost:8080/",
          "height": 51
        }
      },
      "cell_type": "code",
      "source": [
        "X = cleaned[['Bphigh', 'Unemployment', 'PovertyRate']]\n",
        "Y = cleaned[['Obesity']]\n",
        "x_train, x_test, y_train, y_test = train_test_split(X, Y, test_size=0.2)\n",
        "\n",
        "model = LinearRegression(fit_intercept=True)\n",
        "model.fit(x_train, y_train)\n",
        "\n",
        "print('Model Intercept: {}'.format(model.intercept_))\n",
        "print('Model Coefficients: {}'.format(model.coef_))"
      ],
      "execution_count": 0,
      "outputs": [
        {
          "output_type": "stream",
          "text": [
            "Model Intercept: [4.68518704]\n",
            "Model Coefficients: [[ 0.64371334 -0.01763077  0.30775913]]\n"
          ],
          "name": "stdout"
        }
      ]
    },
    {
      "metadata": {
        "colab_type": "text",
        "id": "dBmThySxaXKp"
      },
      "cell_type": "markdown",
      "source": [
        "### Analyzing the Model\n",
        "\n",
        "We now have a trained model, but how well does it perform?"
      ]
    },
    {
      "metadata": {
        "colab_type": "code",
        "id": "UvQhIin3awbU",
        "outputId": "90f2d23d-84f5-4de1-bc31-54662becb7f5",
        "colab": {
          "base_uri": "https://localhost:8080/",
          "height": 51
        }
      },
      "cell_type": "code",
      "source": [
        "def mse(y_pred, y_true):\n",
        "    \"\"\" Compute the mean squared error of 'y_pred' and 'y_true'. \"\"\"\n",
        "    return float(np.sum((y_pred - y_true) ** 2)) / len(y_pred)\n",
        "\n",
        "train_pred = model.predict(x_train)\n",
        "test_pred = model.predict(x_test)\n",
        "\n",
        "print('Training Error: {}'.format(mse(train_pred, y_train)))\n",
        "print('Test Error: {}'.format(mse(test_pred, y_test)))"
      ],
      "execution_count": 0,
      "outputs": [
        {
          "output_type": "stream",
          "text": [
            "Training Error: 11.240566553201505\n",
            "Test Error: 10.346239498614228\n"
          ],
          "name": "stdout"
        }
      ]
    },
    {
      "metadata": {
        "colab_type": "text",
        "id": "VsGLliuzawPE"
      },
      "cell_type": "markdown",
      "source": [
        "We can also display a plot of the residuals"
      ]
    },
    {
      "metadata": {
        "colab_type": "code",
        "id": "MLwX-CH3bDKg",
        "outputId": "855f0630-abf8-49e5-cc6b-f5d388e09649",
        "colab": {
          "base_uri": "https://localhost:8080/",
          "height": 376
        }
      },
      "cell_type": "code",
      "source": [
        "y_res = (test_pred - y_test) / y_test\n",
        "\n",
        "# Plot the results\n",
        "plt.title(\"Residual Proportions Plot\")\n",
        "plt.xlabel(\"Test Data Row Index\")\n",
        "plt.ylabel(\"resid. / actual obesity prevalence\")\n",
        "plt.scatter(y_res.index, y_res['Obesity'])\n",
        "plt.show()"
      ],
      "execution_count": 0,
      "outputs": [
        {
          "output_type": "display_data",
          "data": {
            "image/png": "[encoded data removed]",
            "text/plain": [
              "<matplotlib.figure.Figure at 0x7f6436d1df28>"
            ]
          },
          "metadata": {
            "tags": []
          }
        }
      ]
    },
    {
      "metadata": {
        "colab_type": "text",
        "id": "8VE-arrmbLNL"
      },
      "cell_type": "markdown",
      "source": [
        "How well does your model perform? We were able to achieve an MSE for the test set of approximately 10% points from the observed obesity prevalence. Our model was also able to fit the data with the max residual bounded by +/- 30%, which for a simple model considering only three explanatory variables isn't so bad."
      ]
    },
    {
      "metadata": {
        "colab_type": "text",
        "id": "qapl33x8fy_A"
      },
      "cell_type": "markdown",
      "source": [
        "## Conclusion\n",
        "\n",
        "Congratulations! Rather than spending a couple of hours just searching for and joining datasets from the CDC, Bureau of Labor Statistics, and US Census Bureau, you've spent one lab session querying dataCommons for the same data and, on top of that, using it to build a linear model. Hopefully dataCommons has made the time-to-analysis much shorter! \n",
        "\n",
        "You've also created a basic model to predict the prevalence of obesity in approximately 500 states using intuition from a long line of research. The model you've created only uses three explanatory variables, so even though it's not the most accurate at predicting obesity prevalence, it's possible that it can be improved by adding more variables. Obesity is also known to correlate with factors such as [high cholesterol](https://browser.datacommons.org/kg?dcid=dc/p/mml5nvjzeevbb&r=0) and [diabetes](https://browser.datacommons.org/kg?dcid=dc/p/mml5nvjzeevbb&r=0), but with the data in dataCommons, we can even consider asking if obesity correlates with stranger factors such as\n",
        "\n",
        "- How many universities recognized by [collegescorecard](https://collegescorecard.ed.gov/data/) dataset are contained in a given city \n",
        "- The incidence rate of property arson\n",
        "- The average snowfall in inches\n",
        "\n",
        "Does adding these variables into your model improve accuracy? Can you think of other variables that correlate with obesity? "
      ]
    }
  ]
}